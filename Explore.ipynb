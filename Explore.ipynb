{
 "cells": [
  {
   "cell_type": "code",
   "execution_count": 1,
   "metadata": {},
   "outputs": [],
   "source": [
    "import numpy as np"
   ]
  },
  {
   "cell_type": "code",
   "execution_count": 2,
   "metadata": {},
   "outputs": [],
   "source": [
    "class node():\n",
    "    def __init__(self, kind):\n",
    "        self.type_of_node = kind\n",
    "    bias = {}\n",
    "    info_at_hand = None\n",
    "    type_of_node = None\n",
    "    id = None\n",
    "    def recieve_info(self, info, id):\n",
    "        self.info_at_hand.append(info, bias[id]*info[1]) # Append info, modified with bias * info value\n",
    "        self.bias[id] = update_bias(node, bias[id], info[1])\n",
    "    def update_bias(self, node, bias, value):\n",
    "        return\n",
    "    def transmit(self, info, node_list):\n",
    "        for node in self.node_list:\n",
    "            recieve_info(self.info, id)\n",
    "    def get_id(self):\n",
    "        return id\n",
    "    def set_id(self, value):\n",
    "        id = self.value\n",
    "\n",
    "# Each will have a seperate way of updating their bias. I could have implemented them all in the same function above,\n",
    "# but this ensures seperation between the kinds and allows for bettwe updating in case of type specific funcitons, such\n",
    "# as consumer-consumer sharing\n",
    "class producer(node):\n",
    "    def __init__(self):\n",
    "        kind = 'Producer'\n",
    "\n",
    "class consumer(node):\n",
    "    def __init__(self):\n",
    "        kind = 'Consumer'\n",
    "    def consumer_consumer(self):\n",
    "        # Consumer sharing\n",
    "        pass\n",
    "    def recieve_info(self):\n",
    "        pass\n",
    "    def update_bias(self):\n",
    "        pass\n",
    "class transmitter(node):\n",
    "    def __init__():\n",
    "        kind = 'Transmitter'\n",
    "    consumer_list = []"
   ]
  },
  {
   "cell_type": "code",
   "execution_count": 3,
   "metadata": {},
   "outputs": [],
   "source": [
    "class space():\n",
    "    node_list = []\n",
    "    priority_range = int()\n",
    "    x_bound = 0\n",
    "    y_bound = 0\n",
    "    id = 0\n",
    "    def __init__(self, x= 1000, y=1000, p_range = priority_range, network_bias = 0):\n",
    "        priority_range = p_range\n",
    "        x_bound = x\n",
    "        y_bound = y\n",
    "        bias = network_bias\n",
    "    \n",
    "    def create_information_list(self, num, value_range):\n",
    "        for i in range(num):\n",
    "            info = tuple(i, random.value(0, value_range))\n",
    "            information_list.append(info)\n",
    "        return information_list\n",
    "    \n",
    "    def add_node(self, node_type, restrict_x = x_bound, restrict_y = y_bound): # Restrict placement for better viewing\n",
    "        position = assign_node_position(x_range, y_range)\n",
    "        node = tuple(node_type, position)\n",
    "        id += 1\n",
    "        node_list[id] = node\n",
    "        return id\n",
    "        \n",
    "    \n",
    "    def assign_node_position(self, x_range, y_range):\n",
    "        while(True):\n",
    "            x = random.values(0, x_range)\n",
    "            y = random.values(0, y_range)\n",
    "            for node in node_list:\n",
    "                if x == node[1] or y == node[2]:\n",
    "                    continue\n",
    "                else:\n",
    "                    return(x, y)"
   ]
  },
  {
   "cell_type": "code",
   "execution_count": 49,
   "metadata": {},
   "outputs": [],
   "source": [
    "x = node('tester')"
   ]
  },
  {
   "cell_type": "code",
   "execution_count": 50,
   "metadata": {},
   "outputs": [
    {
     "name": "stdout",
     "output_type": "stream",
     "text": [
      "tester\n"
     ]
    }
   ],
   "source": [
    "print(x.type_of_node)"
   ]
  },
  {
   "cell_type": "code",
   "execution_count": null,
   "metadata": {},
   "outputs": [],
   "source": []
  }
 ],
 "metadata": {
  "kernelspec": {
   "display_name": "Python 3",
   "language": "python",
   "name": "python3"
  },
  "language_info": {
   "codemirror_mode": {
    "name": "ipython",
    "version": 3
   },
   "file_extension": ".py",
   "mimetype": "text/x-python",
   "name": "python",
   "nbconvert_exporter": "python",
   "pygments_lexer": "ipython3",
   "version": "3.6.4"
  }
 },
 "nbformat": 4,
 "nbformat_minor": 2
}
